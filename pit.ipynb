{
 "cells": [
  {
   "cell_type": "code",
   "execution_count": 1,
   "id": "parallel-collection",
   "metadata": {},
   "outputs": [],
   "source": [
    "from chessbot import choose_move\n",
    "from massimobot import sexy_play_method\n",
    "import chess\n",
    "import numpy as np\n",
    "from random import randrange"
   ]
  },
  {
   "cell_type": "code",
   "execution_count": 2,
   "id": "indonesian-blond",
   "metadata": {},
   "outputs": [],
   "source": [
    "def generateStartingPositions(n):\n",
    "    boards=np.zeros(n, dtype=chess.Board)\n",
    "    moves=np.zeros(n*2, dtype=np.ndarray)\n",
    "    for i in range(n):\n",
    "        board=chess.Board()\n",
    "        for j in range(4):\n",
    "            legalmoves=list(board.legal_moves)\n",
    "            move=board.san(legalmoves[randrange(len(legalmoves))])\n",
    "            if j==0:\n",
    "                moves[2*i]=move\n",
    "                moves[2*i+1]=move\n",
    "            else:\n",
    "                moves[2*i]=np.append(moves[2*i],move)\n",
    "                moves[2*i+1]=np.append(moves[2*i+1],move)\n",
    "            board.push_san(move)\n",
    "        boards[i]=board\n",
    "    return [boards,moves]"
   ]
  },
  {
   "cell_type": "code",
   "execution_count": 49,
   "id": "cfb292c1",
   "metadata": {},
   "outputs": [],
   "source": [
    "import chess.engine\n",
    "def addEval(engine, board, evaluation, i):\n",
    "    #Engine from white POV\n",
    "    tmpeval=engine.analyse(board, chess.engine.Limit(time=0.1))['score'].pov(1)\n",
    "    if tmpeval.is_mate():\n",
    "        if tmpeval.mate()<0:\n",
    "            evaluation[i].append(-2000)\n",
    "        else:\n",
    "            evaluation[i].append(2000)\n",
    "    else:\n",
    "        evaluation[i].append(tmpeval.score())\n",
    "    return evaluation"
   ]
  },
  {
   "cell_type": "code",
   "execution_count": 55,
   "id": "greatest-banner",
   "metadata": {},
   "outputs": [],
   "source": [
    "def pit(n):\n",
    "    \"\"\"\n",
    "    Input: \n",
    "        n: half of games to be played\n",
    "    \n",
    "    Output:\n",
    "        record: record of games, see comment below\n",
    "        moves: Array of moves played\n",
    "        evaluation: evaluation of position from white perspective in CP (mate = 2000)\n",
    "        colorWin: Array of length n*2 describing outcome of each game\n",
    "        0: draw, 1: white win, -1: black win\n",
    "    \"\"\"\n",
    "    engine=chess.engine.SimpleEngine.popen_uci(\"stockfish/14/bin/stockfish\")\n",
    "    [boards, moves]=generateStartingPositions(n)\n",
    "    colorWin=np.zeros(n*2)\n",
    "    evaluation={}\n",
    "    for i in range(n*2):\n",
    "        evaluation[i]=[29]\n",
    "    record=np.zeros(3) #[Grant wins, Massimo wins, draws]\n",
    "    for i in range(n):\n",
    "        board=boards[i].copy() #Grant is white\n",
    "        while board.outcome() is None:\n",
    "            grantmove=board.san(choose_move(board,1))\n",
    "            board.push_san(grantmove)\n",
    "            evaluation=addEval(engine, board, evaluation, i*2)\n",
    "            moves[i*2]=np.append(moves[i*2],grantmove)\n",
    "            if board.outcome() is not None:\n",
    "                break\n",
    "            massimomove=board.san(sexy_play_method(board,board.turn))\n",
    "            board.push_san(massimomove)\n",
    "            evaluation=addEval(engine, board, evaluation, i*2)\n",
    "            moves[i*2]=np.append(moves[i*2],massimomove)\n",
    "        if board.outcome().winner is None:\n",
    "            record[2]+=1\n",
    "        elif board.outcome().winner==True:\n",
    "            colorWin[i*2]=1\n",
    "            record[0]+=1\n",
    "        else:\n",
    "            colorWin[i*2]=-1\n",
    "            record[1]+=1\n",
    "        board=boards[i] #Massimo is white\n",
    "        while board.outcome() is None:\n",
    "            massimomove=board.san(sexy_play_method(board,board.turn))\n",
    "            board.push_san(massimomove)\n",
    "            evaluation=addEval(engine, board, evaluation, i*2+1)\n",
    "            moves[i*2+1]=np.append(moves[i*2+1],massimomove)\n",
    "            if board.outcome() is not None:\n",
    "                break\n",
    "            grantmove=board.san(choose_move(board,1))\n",
    "            board.push_san(grantmove)\n",
    "            evaluation=addEval(engine, board, evaluation, i*2+1)\n",
    "            moves[i*2+1]=np.append(moves[i*2+1],grantmove)\n",
    "        if board.outcome().winner is None:\n",
    "            record[2]+=1\n",
    "        elif board.outcome().winner==True:\n",
    "            colorWin[i*2+1]=1\n",
    "            record[1]+=1\n",
    "        else:\n",
    "            colorWin[i*2+1]=1\n",
    "            record[0]+=1\n",
    "        print(i)\n",
    "    return [record,moves, evaluation, colorWin]"
   ]
  },
  {
   "cell_type": "code",
   "execution_count": 51,
   "id": "responsible-tuning",
   "metadata": {},
   "outputs": [
    {
     "name": "stdout",
     "output_type": "stream",
     "text": [
      "0\n"
     ]
    }
   ],
   "source": [
    "[record, moves, evaluation, colorWin]=pit(1)"
   ]
  },
  {
   "cell_type": "code",
   "execution_count": 85,
   "id": "f4618771",
   "metadata": {},
   "outputs": [],
   "source": [
    "def comeback(evaluation, colorWin, n):\n",
    "    if n >= len(colorWin):\n",
    "        print(\"n must be smaller than number of games played\")\n",
    "        return\n",
    "    # n is number of games to find comebacks in\n",
    "    winnerEval=[]\n",
    "    for i in range(len(colorWin)):\n",
    "        winnerEval.append(sum(evaluation[i])*colorWin[i])\n",
    "    return np.argpartition(winnerEval, n)[:n]"
   ]
  },
  {
   "cell_type": "code",
   "execution_count": 87,
   "id": "f0cff3dd",
   "metadata": {},
   "outputs": [
    {
     "data": {
      "text/plain": [
       "array([1])"
      ]
     },
     "execution_count": 87,
     "metadata": {},
     "output_type": "execute_result"
    }
   ],
   "source": [
    "comeback(evaluation, colorWin, 1)"
   ]
  },
  {
   "cell_type": "code",
   "execution_count": null,
   "id": "1d8ea396",
   "metadata": {},
   "outputs": [],
   "source": []
  }
 ],
 "metadata": {
  "kernelspec": {
   "display_name": "chess",
   "language": "python",
   "name": "chess"
  },
  "language_info": {
   "codemirror_mode": {
    "name": "ipython",
    "version": 3
   },
   "file_extension": ".py",
   "mimetype": "text/x-python",
   "name": "python",
   "nbconvert_exporter": "python",
   "pygments_lexer": "ipython3",
   "version": "3.9.5"
  }
 },
 "nbformat": 4,
 "nbformat_minor": 5
}
