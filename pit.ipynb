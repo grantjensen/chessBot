{
 "cells": [
  {
   "cell_type": "code",
   "execution_count": 1,
   "id": "parallel-collection",
   "metadata": {},
   "outputs": [],
   "source": [
    "from chessbot import choose_move\n",
    "import chess\n",
    "import numpy as np\n",
    "from random import randrange"
   ]
  },
  {
   "cell_type": "code",
   "execution_count": 2,
   "id": "indonesian-blond",
   "metadata": {},
   "outputs": [],
   "source": [
    "def generateStartingPositions(n):\n",
    "    boards=np.zeros(n, dtype=chess.Board)\n",
    "    moves=np.zeros(n*2, dtype=np.ndarray)\n",
    "    for i in range(n):\n",
    "        board=chess.Board()\n",
    "        for j in range(4):\n",
    "            legalmoves=list(board.legal_moves)\n",
    "            move=board.san(legalmoves[randrange(len(legalmoves))])\n",
    "            if j==0:\n",
    "                moves[2*i]=move\n",
    "                moves[2*i+1]=move\n",
    "            else:\n",
    "                moves[2*i]=np.append(moves[2*i],move)\n",
    "                moves[2*i+1]=np.append(moves[2*i+1],move)\n",
    "            board.push_san(move)\n",
    "        boards[i]=board\n",
    "    return [boards,moves]"
   ]
  },
  {
   "cell_type": "code",
   "execution_count": 3,
   "id": "greatest-banner",
   "metadata": {},
   "outputs": [],
   "source": [
    "def pit(n):\n",
    "    [boards, moves]=generateStartingPositions(n)\n",
    "    record=np.zeros(3) #[Grant wins, Massimo wins, draws]\n",
    "    for i in range(n):\n",
    "        board=boards[i].copy() #Grant is white\n",
    "        while board.outcome() is None:\n",
    "            grantmove=board.san(choose_move(board,0.1))\n",
    "            board.push_san(grantmove)\n",
    "            moves[i*2]=np.append(moves[i*2],grantmove)\n",
    "            if board.outcome() is not None:\n",
    "                break\n",
    "            massimomove=board.san(choose_move(board,0.1))\n",
    "            board.push_san(massimomove)\n",
    "            moves[i*2]=np.append(moves[i*2],massimomove)\n",
    "        if board.outcome().winner is None:\n",
    "            record[2]+=1\n",
    "        elif board.outcome().winner==True:\n",
    "            record[0]+=1\n",
    "        else:\n",
    "            record[1]+=1\n",
    "        board=boards[i] #Massimo is white\n",
    "        while board.outcome() is None:\n",
    "            massimomove=board.san(choose_move(board,.1))\n",
    "            board.push_san(massimomove)\n",
    "            moves[i*2+1]=np.append(moves[i*2+1],massimomove)\n",
    "            if board.outcome() is not None:\n",
    "                break\n",
    "            grantmove=board.san(choose_move(board,.1))\n",
    "            board.push_san(grantmove)\n",
    "            moves[i*2+1]=np.append(moves[i*2+1],grantmove)\n",
    "        if board.outcome().winner is None:\n",
    "            record[2]+=1\n",
    "        elif board.outcome().winner==True:\n",
    "            record[1]+=1\n",
    "        else:\n",
    "            record[0]+=1\n",
    "        print(i)\n",
    "    return [record,moves]"
   ]
  },
  {
   "cell_type": "code",
   "execution_count": 4,
   "id": "responsible-tuning",
   "metadata": {},
   "outputs": [
    {
     "name": "stdout",
     "output_type": "stream",
     "text": [
      "0\n",
      "1\n",
      "2\n"
     ]
    }
   ],
   "source": [
    "[record, moves]=pit(3)"
   ]
  },
  {
   "cell_type": "code",
   "execution_count": 5,
   "id": "radical-manchester",
   "metadata": {},
   "outputs": [
    {
     "name": "stdout",
     "output_type": "stream",
     "text": [
      "[3. 3. 0.] [array(['a3', 'b5', 'e3', 'Ba6', 'Nc3', 'e5', 'Nxb5', 'Bxb5', 'Bxb5',\n",
      "        'Nf6', 'Ne2', 'Bxa3', 'Rxa3', 'Qe7', 'Rc3', 'Qb4', 'Rb3', 'Qxb3',\n",
      "        'cxb3', 'O-O', 'Qc2', 'Nc6', 'Qc5', 'Ne4', 'Qc2', 'Nxf2', 'Kxf2',\n",
      "        'd5', 'Bxc6', 'Rfe8', 'Qc5', 'Rad8', 'Bxe8', 'Rxe8', 'Qxd5', 'e4',\n",
      "        'Ng3', 'Kf8', 'Qc5+', 'Kg8', 'Re1', 'Rd8', 'Nxe4', 'Re8', 'Qc6',\n",
      "        'Rxe4', 'Qa8+', 'Re8', 'Qxe8#'], dtype='<U5')\n",
      " array(['a3', 'b5', 'e3', 'Ba6', 'd4', 'Nc6', 'Nf3', 'Nf6', 'Nbd2', 'd5',\n",
      "        'Nb3', 'Nxd4', 'exd4', 'e6', 'Bg5', 'Bxa3', 'Rxa3', 'Qd6', 'Ra1',\n",
      "        'Qb4+', 'Bd2', 'Qxd2+', 'Nbxd2', 'O-O', 'Rxa6', 'e5', 'Bxb5',\n",
      "        'exd4', 'O-O', 'Rfb8', 'Bc6', 'Rxb2', 'Bxa8', 'Rxc2', 'Qxc2',\n",
      "        'Ne4', 'Nxe4', 'dxe4', 'Bxe4', 'd3', 'Bxd3', 'Kf8', 'Bxh7', 'Ke7',\n",
      "        'Ne5', 'g5', 'Rxa7', 'Ke6', 'Qc5', 'g4', 'Rxc7', 'g3', 'fxg3',\n",
      "        'f5', 'Bxf5+', 'Kf6', 'g4', 'Kg5', 'Be4', 'Kh6', 'Qc1#'],\n",
      "       dtype='<U5')\n",
      " array(['c3', 'g5', 'h4', 'Nh6', 'hxg5', 'Ng4', 'Qa4', 'Nxf2', 'Kxf2',\n",
      "        'e5', 'd4', 'exd4', 'cxd4', 'Nc6', 'Nc3', 'Bb4', 'Ne4', 'd5',\n",
      "        'Nf6+', 'Qxf6+', 'gxf6', 'Bd7', 'e4', 'dxe4', 'Ke3', 'Nxd4',\n",
      "        'Qxb4', 'Nc2+', 'Kf4', 'Nxb4', 'Bd2', 'O-O', 'Bxb4', 'Be6', 'Bxf8',\n",
      "        'Kxf8', 'Kxe4', 'Bxa2', 'Rxa2', 'Re8+', 'Kd5', 'Re1', 'Ne2',\n",
      "        'Rxf1', 'Rxf1', 'Kg8', 'Rc1', 'Kf8', 'Ke5', 'Kg8', 'Nd4', 'Kf8',\n",
      "        'Raa1', 'Kg8', 'Ke4', 'Kf8', 'Rc5', 'Kg8', 'Rb5', 'Kf8', 'Rb4',\n",
      "        'c5', 'Rxb7', 'cxd4', 'Kxd4', 'Kg8', 'Rbxa7', 'Kf8', 'Re1', 'Kg8',\n",
      "        'Re8#'], dtype='<U5')\n",
      " array(['c3', 'g5', 'h4', 'Nh6', 'd4', 'Nc6', 'Bxg5', 'Nxd4', 'cxd4',\n",
      "        'Ng4', 'Nc3', 'Nxf2', 'Kxf2', 'Rg8', 'Nf3', 'Rxg5', 'hxg5', 'e5',\n",
      "        'Nxe5', 'Bg7', 'Rxh7', 'Bxe5', 'dxe5', 'Qxg5', 'Qd4', 'Qf5+',\n",
      "        'Kg3', 'Qxh7', 'e4', 'Qh1', 'Nd5', 'Qxf1', 'Rxf1', 'd6', 'Qa4+',\n",
      "        'Kf8', 'Nxc7', 'dxe5', 'Nxa8', 'Ke7', 'Qb4+', 'Ke6', 'Qc4+', 'Kd6',\n",
      "        'Rd1+', 'Ke7', 'Qxc8', 'Kf6', 'Qxb7', 'Ke6', 'Qd5+', 'Kf6', 'Qd6+',\n",
      "        'Kg5', 'Kf3', 'a6', 'Nc7', 'a5', 'Qxe5+', 'Kg6', 'Rd7', 'a4',\n",
      "        'Nd5', 'a3', 'Qf6+', 'Kh7', 'Rxf7+', 'Kg8', 'Ne7#'], dtype='<U5')\n",
      " array(['h3', 'Nc6', 'a4', 'b6', 'Nf3', 'd6', 'Ng5', 'e5', 'Nxf7', 'Kxf7',\n",
      "        'Nc3', 'd5', 'Nxd5', 'Qxd5', 'e4', 'Qxe4+', 'Qe2', 'Qxe2+', 'Kxe2',\n",
      "        'Ba6+', 'Ke3', 'Bxf1', 'Rxf1', 'Bc5+', 'd4', 'Bxd4+', 'Ke4',\n",
      "        'Nge7', 'f4', 'Ke6', 'Rd1', 'Nd5', 'f5+', 'Kf6', 'Rxd4', 'Nxd4',\n",
      "        'Kxd5', 'Nxc2', 'Bf4', 'Rhd8+', 'Ke4', 'Rd4+', 'Kf3', 'Nxa1',\n",
      "        'Bxe5+', 'Kxf5', 'Bxd4', 'Rg8', 'Bxg7', 'Rxg7', 'Ke3', 'Nb3', 'a5',\n",
      "        'Nxa5', 'Kd4', 'Nb3+', 'Kd5', 'b5', 'h4', 'Rg6', 'h5', 'Rd6#'],\n",
      "       dtype='<U5')\n",
      " array(['h3', 'Nc6', 'a4', 'b6', 'Nf3', 'Nb4', 'Ng5', 'e5', 'Nxf7',\n",
      "        'Nxc2+', 'Qxc2', 'Kxf7', 'Qf5+', 'Qf6', 'Qh5+', 'Ke7', 'Nc3',\n",
      "        'Qxf2+', 'Kd1', 'Qc5', 'Qf3', 'Rb8', 'Ne4', 'Qc6', 'e3', 'Nf6',\n",
      "        'Bb5', 'Qxe4', 'Qg3', 'Qd5', 'Qxe5+', 'Kd8', 'Qf4', 'Qb3+', 'Ke1',\n",
      "        'Bd6', 'Qxd6', 'cxd6', 'Bxd7', 'Kxd7', 'Kf2', 'Qc2', 'Kf3', 'Bb7+',\n",
      "        'e4', 'Qxe4+', 'Kf2', 'Qxg2+', 'Ke3', 'Rbe8+', 'Kd4', 'Qxh1', 'd3',\n",
      "        'Ke6', 'Bf4', 'Qxa1', 'Bxd6', 'Kxd6', 'a5', 'Qxb2+', 'Kc4', 'Ba6#'],\n",
      "       dtype='<U5')                                                         ]\n"
     ]
    }
   ],
   "source": [
    "print(record, moves)"
   ]
  }
 ],
 "metadata": {
  "kernelspec": {
   "display_name": "chess",
   "language": "python",
   "name": "chess"
  },
  "language_info": {
   "codemirror_mode": {
    "name": "ipython",
    "version": 3
   },
   "file_extension": ".py",
   "mimetype": "text/x-python",
   "name": "python",
   "nbconvert_exporter": "python",
   "pygments_lexer": "ipython3",
   "version": "3.9.5"
  }
 },
 "nbformat": 4,
 "nbformat_minor": 5
}
